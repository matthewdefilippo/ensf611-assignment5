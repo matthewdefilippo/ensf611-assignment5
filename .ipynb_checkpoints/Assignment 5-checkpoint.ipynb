{
 "cells": [
  {
   "cell_type": "markdown",
   "id": "87fee377",
   "metadata": {},
   "source": [
    "# Assignment 5: PCA and Clustering (40 marks)\n",
    "### Due: December 6 at 11:59pm \n",
    "(Dropbox will remain open until December 8 at 11:59pm)\n",
    "\n",
    "### Name: Matthew De Filippo"
   ]
  },
  {
   "cell_type": "markdown",
   "id": "ba7f05d0",
   "metadata": {},
   "source": [
    "The purpose of this assignment is to practice using PCA and clustering techniques on a given dataset."
   ]
  },
  {
   "cell_type": "code",
   "execution_count": 2,
   "id": "be4299ae",
   "metadata": {},
   "outputs": [],
   "source": [
    "import numpy as np\n",
    "import pandas as pd\n",
    "import matplotlib.pyplot as plt\n",
    "import seaborn as sns"
   ]
  },
  {
   "cell_type": "markdown",
   "id": "3c84e8e3",
   "metadata": {},
   "source": [
    "## Part 1: Principle Component Analysis (PCA) (18 marks)"
   ]
  },
  {
   "cell_type": "markdown",
   "id": "fe7cfa4f",
   "metadata": {},
   "source": [
    "### Step 1. Load data (2 marks)\n",
    "\n",
    "You have been asked by an agricultural company to help them predict the type of wheat based on kernel characteristics. You have been given all the information you need in the seeds_dataset.txt file on D2L. The original dataset can be found [here](https://archive.ics.uci.edu/dataset/236/seeds)\n",
    "\n",
    "The first step is to read in the file using pandas and inspect the first few columns. Note that the data is in a text file, so the separator is different compared to a csv file."
   ]
  },
  {
   "cell_type": "code",
   "execution_count": 3,
   "id": "474481f1",
   "metadata": {},
   "outputs": [
    {
     "data": {
      "text/html": [
       "<div>\n",
       "<style scoped>\n",
       "    .dataframe tbody tr th:only-of-type {\n",
       "        vertical-align: middle;\n",
       "    }\n",
       "\n",
       "    .dataframe tbody tr th {\n",
       "        vertical-align: top;\n",
       "    }\n",
       "\n",
       "    .dataframe thead th {\n",
       "        text-align: right;\n",
       "    }\n",
       "</style>\n",
       "<table border=\"1\" class=\"dataframe\">\n",
       "  <thead>\n",
       "    <tr style=\"text-align: right;\">\n",
       "      <th></th>\n",
       "      <th>0</th>\n",
       "      <th>1</th>\n",
       "      <th>2</th>\n",
       "      <th>3</th>\n",
       "      <th>4</th>\n",
       "      <th>5</th>\n",
       "      <th>6</th>\n",
       "      <th>7</th>\n",
       "    </tr>\n",
       "  </thead>\n",
       "  <tbody>\n",
       "    <tr>\n",
       "      <th>0</th>\n",
       "      <td>15.26</td>\n",
       "      <td>14.84</td>\n",
       "      <td>0.8710</td>\n",
       "      <td>5.763</td>\n",
       "      <td>3.312</td>\n",
       "      <td>2.221</td>\n",
       "      <td>5.220</td>\n",
       "      <td>1</td>\n",
       "    </tr>\n",
       "    <tr>\n",
       "      <th>1</th>\n",
       "      <td>14.88</td>\n",
       "      <td>14.57</td>\n",
       "      <td>0.8811</td>\n",
       "      <td>5.554</td>\n",
       "      <td>3.333</td>\n",
       "      <td>1.018</td>\n",
       "      <td>4.956</td>\n",
       "      <td>1</td>\n",
       "    </tr>\n",
       "    <tr>\n",
       "      <th>2</th>\n",
       "      <td>14.29</td>\n",
       "      <td>14.09</td>\n",
       "      <td>0.9050</td>\n",
       "      <td>5.291</td>\n",
       "      <td>3.337</td>\n",
       "      <td>2.699</td>\n",
       "      <td>4.825</td>\n",
       "      <td>1</td>\n",
       "    </tr>\n",
       "    <tr>\n",
       "      <th>3</th>\n",
       "      <td>13.84</td>\n",
       "      <td>13.94</td>\n",
       "      <td>0.8955</td>\n",
       "      <td>5.324</td>\n",
       "      <td>3.379</td>\n",
       "      <td>2.259</td>\n",
       "      <td>4.805</td>\n",
       "      <td>1</td>\n",
       "    </tr>\n",
       "    <tr>\n",
       "      <th>4</th>\n",
       "      <td>16.14</td>\n",
       "      <td>14.99</td>\n",
       "      <td>0.9034</td>\n",
       "      <td>5.658</td>\n",
       "      <td>3.562</td>\n",
       "      <td>1.355</td>\n",
       "      <td>5.175</td>\n",
       "      <td>1</td>\n",
       "    </tr>\n",
       "  </tbody>\n",
       "</table>\n",
       "</div>"
      ],
      "text/plain": [
       "       0      1       2      3      4      5      6  7\n",
       "0  15.26  14.84  0.8710  5.763  3.312  2.221  5.220  1\n",
       "1  14.88  14.57  0.8811  5.554  3.333  1.018  4.956  1\n",
       "2  14.29  14.09  0.9050  5.291  3.337  2.699  4.825  1\n",
       "3  13.84  13.94  0.8955  5.324  3.379  2.259  4.805  1\n",
       "4  16.14  14.99  0.9034  5.658  3.562  1.355  5.175  1"
      ]
     },
     "execution_count": 3,
     "metadata": {},
     "output_type": "execute_result"
    }
   ],
   "source": [
    "# TODO: Import dataset and inspect the first five columns\n",
    "# Need to split the data based on tab characters. No header is provided.\n",
    "df = pd.read_csv('seeds_dataset.txt', delimiter='\\t', header=None)\n",
    "df.head()"
   ]
  },
  {
   "cell_type": "markdown",
   "id": "c0453ae3",
   "metadata": {},
   "source": [
    "Next, you will need to separate the data into your feature matrix and target vector."
   ]
  },
  {
   "cell_type": "code",
   "execution_count": 4,
   "id": "15a5c76c",
   "metadata": {
    "scrolled": true
   },
   "outputs": [
    {
     "name": "stdout",
     "output_type": "stream",
     "text": [
      "Shape of X: (210, 7)\n",
      "Shape of y: (210,)\n"
     ]
    }
   ],
   "source": [
    "# TODO: Separate the data into feature matrix and target vector. Print the shape of X and y.\n",
    "\n",
    "# Take the last column as the target vector (kernel classification).\n",
    "X = df.iloc[:, :-1]  \n",
    "y = df.iloc[:, -1]   \n",
    "\n",
    "print(f\"Shape of X: {X.shape}\")\n",
    "print(f\"Shape of y: {y.shape}\")"
   ]
  },
  {
   "cell_type": "markdown",
   "id": "e5024bec",
   "metadata": {},
   "source": [
    "### Step 2: Preprocessing (2 marks)"
   ]
  },
  {
   "cell_type": "markdown",
   "id": "f908b657",
   "metadata": {},
   "source": [
    "To preprocess the data, we will need to scale the data. Which scaler would you select and why? *(1 mark)* \n",
    "\n",
    "*ANSWER HERE*\n",
    "#### Response\n",
    "I selected the Standard Scaler to transform the data such that for each feature the mean is 0 and the variance is 1. In this case, we do not need to ensure any particular minimum or maximum values for the data; we simply want to bring all of the variables into a similar range."
   ]
  },
  {
   "cell_type": "markdown",
   "id": "c29892b5",
   "metadata": {},
   "source": [
    "Before we implement the scaler, we need to split the data into training and testing sets first."
   ]
  },
  {
   "cell_type": "code",
   "execution_count": 5,
   "id": "04f3a4bf",
   "metadata": {},
   "outputs": [],
   "source": [
    "# TODO: Split the data into training and testing sets\n",
    "from sklearn.model_selection import train_test_split\n",
    "X_train, X_test, y_train, y_test = train_test_split(X, y, test_size=0.2, random_state=42)"
   ]
  },
  {
   "cell_type": "code",
   "execution_count": 6,
   "id": "f22529a6",
   "metadata": {},
   "outputs": [
    {
     "name": "stdout",
     "output_type": "stream",
     "text": [
      "Shape of X_train: (168, 7)\n",
      "Shape of y: (168,)\n"
     ]
    }
   ],
   "source": [
    "# TODO: Print the shape of the training feature matrix and target vector\n",
    "print(f\"Shape of X_train: {X_train.shape}\")\n",
    "print(f\"Shape of y: {y_train.shape}\")"
   ]
  },
  {
   "cell_type": "markdown",
   "id": "282cbc43",
   "metadata": {},
   "source": [
    "Now that we have our training data, we can implement our selected scaler."
   ]
  },
  {
   "cell_type": "code",
   "execution_count": 7,
   "id": "ed75b036",
   "metadata": {},
   "outputs": [],
   "source": [
    "# TODO: Scale the data\n",
    "from sklearn.preprocessing import StandardScaler\n",
    "from sklearn.decomposition import PCA\n",
    "\n",
    "# Implement the StandardScaler.\n",
    "scaler = StandardScaler()\n",
    "X_train_scaled =  scaler.fit_transform(X_train)\n",
    "X_test_scaled = scaler.transform(X_test)"
   ]
  },
  {
   "cell_type": "markdown",
   "id": "8cfa23f3",
   "metadata": {},
   "source": [
    "### Step 3: Model Selection (1 mark)"
   ]
  },
  {
   "cell_type": "markdown",
   "id": "773d0687",
   "metadata": {},
   "source": [
    "The next step is to instantiate our selected model. In this case, we will be using `LogisticRegression()`"
   ]
  },
  {
   "cell_type": "code",
   "execution_count": 8,
   "id": "b79801bc",
   "metadata": {},
   "outputs": [],
   "source": [
    "# TODO: Instantiate model\n",
    "from sklearn.linear_model import LogisticRegression\n",
    "model = LogisticRegression()"
   ]
  },
  {
   "cell_type": "markdown",
   "id": "2177add4",
   "metadata": {},
   "source": [
    "### Step 4: Validation (2 marks)"
   ]
  },
  {
   "cell_type": "markdown",
   "id": "4092329e",
   "metadata": {},
   "source": [
    "To validate the results, we need to use cross-validation. To make sure we are using the best hyperparmeters, we can use a grid search. The parameter grid has been provided below."
   ]
  },
  {
   "cell_type": "code",
   "execution_count": 9,
   "id": "d3e5cfe7",
   "metadata": {},
   "outputs": [],
   "source": [
    "param_grid = {'C': [0.01, 0.1, 1.0, 10.0],\n",
    "             'fit_intercept': [True, False]}"
   ]
  },
  {
   "cell_type": "code",
   "execution_count": 10,
   "id": "e0317e3f",
   "metadata": {},
   "outputs": [
    {
     "name": "stdout",
     "output_type": "stream",
     "text": [
      "Best Parameters: {'C': 10.0, 'fit_intercept': True}\n",
      "Best Cross Validation Score: 0.9467023172905525\n",
      "Test Score: 0.9523809523809523\n"
     ]
    }
   ],
   "source": [
    "#TODO: Implement the grid search and print the best parameters, cross-validation score and test score\n",
    "from sklearn.model_selection import GridSearchCV\n",
    "grid_search = GridSearchCV(model, param_grid, cv=5)\n",
    "grid_search.fit(X_train_scaled, y_train)\n",
    "\n",
    "# Print the best parameters determined by the grid search.\n",
    "print(f\"Best Parameters: {grid_search.best_params_}\")\n",
    "\n",
    "# Print the cross validation score.\n",
    "print(f\"Best Cross Validation Score: {grid_search.best_score_}\")\n",
    "\n",
    "# Print the test score.\n",
    "print(f\"Test Score: {grid_search.score(X_test_scaled, y_test)}\")"
   ]
  },
  {
   "cell_type": "markdown",
   "id": "97cee662",
   "metadata": {},
   "source": [
    "### Step 5: Visualize using PCA (3 marks)"
   ]
  },
  {
   "cell_type": "markdown",
   "id": "4eed3fd7",
   "metadata": {},
   "source": [
    "Now you can visualize the results from Step 4 using PCA. Use the best parameters from the previous step to predict the label for the testing data. For the plot, each data point must be colored based on the class label."
   ]
  },
  {
   "cell_type": "code",
   "execution_count": 11,
   "id": "1dc2310c",
   "metadata": {},
   "outputs": [],
   "source": [
    "# TODO: Predict y labels using best estimator\n",
    "y_pred = grid_search.best_estimator_.predict(X_test_scaled)"
   ]
  },
  {
   "cell_type": "code",
   "execution_count": 12,
   "id": "6a3416d3",
   "metadata": {},
   "outputs": [],
   "source": [
    "# TODO: Reduce dimensions of test data for plotting\n",
    "# Implement Principal Component Analysis.\n",
    "pca = PCA(n_components=2)\n",
    "X_train_pca = pca.fit_transform(X_train_scaled)\n",
    "X_test_pca = pca.transform(X_test_scaled)"
   ]
  },
  {
   "cell_type": "code",
   "execution_count": 13,
   "id": "5317451f",
   "metadata": {},
   "outputs": [
    {
     "data": {
      "image/png": "[encoded data removed]",
      "text/plain": [
       "<Figure size 800x600 with 1 Axes>"
      ]
     },
     "metadata": {},
     "output_type": "display_data"
    }
   ],
   "source": [
    "# TODO: Plot test points colored by predicted label\n",
    "plt.figure(figsize=(8, 6))\n",
    "scatter = plt.scatter(X_test_pca[:, 0], X_test_pca[:, 1], c=y_pred, cmap='viridis')\n",
    "plt.title('PCA of Test Data Colored by Predicted Label')\n",
    "plt.xlabel('First Principal Component')\n",
    "plt.ylabel('Second Principal Component')\n",
    "plt.legend(handles=scatter.legend_elements()[0], labels=set(y_pred))\n",
    "plt.show()"
   ]
  },
  {
   "cell_type": "markdown",
   "id": "296ea401",
   "metadata": {},
   "source": [
    "#### Questions (4 marks)\n",
    "\n",
    "1. Did the logistic regression model work well for this dataset? Why would you make this conclusion? *(2 marks)*\n",
    "1. Did PCA work well for this model? How does this relate to the results from the model used? *(2 marks)*\n",
    "\n",
    "*ANSWER HERE*\n",
    "\n",
    "#### Question 1 Response\n",
    "The logistic regression model did work well for this dataset based on the training and testing scores achieved (approx. 0.95 each). These values are both close to the maximum of 1 and close together. We can therefore say that this model is exhibiting low bias and low variance.\n",
    "\n",
    "#### Question 2 Response\n",
    "Yes; PCA did work well for this model based on the above plot \"PCA of Test Data Colored by Predicted Label\". Each classification label is groups together relatively well except for a couple of the datapoints for class 1. Since both models used were linear (logistic regression and PCA), we can assume that this dataset is likely linear."
   ]
  },
  {
   "cell_type": "markdown",
   "id": "c88a3cf1",
   "metadata": {},
   "source": [
    "### Process Description (4 marks)\n",
    "Please describe the process you used to create your code. Cite any websites or generative AI tools used. You can use the following questions as guidance:\n",
    "1. Where did you source your code?\n",
    "1. In what order did you complete the steps?\n",
    "1. If you used generative AI, what prompts did you use? Did you need to modify the code at all? Why or why not?\n",
    "1. Did you have any challenges? If yes, what were they? If not, what helped you to be successful?"
   ]
  },
  {
   "cell_type": "markdown",
   "id": "d8336341",
   "metadata": {},
   "source": [
    "#### Question 1 Response\n",
    "I sourced my code based on the examples provided in the lecture notes (particularily Introduction to PCA and PCA Applications). I also referenced my previously completed assignments when performing some of the pre-processing required by this assignment.\n",
    "\n",
    "#### Question 2 Response\n",
    "I completed the steps in the suggested order (1->2->3->4->5). I felt that this was a logical and clear way to approach the problem.\n",
    "\n",
    "#### Question 3 Response\n",
    "I did not use generative AI to complete this section of the assignment.\n",
    "\n",
    "#### Question 4 Response\n",
    "Yes. I had some challenges getting the Grid Search to work. I went through my code thouroughly and noticed that I was using the incorrect attribute dataset in my scaler; changing that solved the issue."
   ]
  },
  {
   "cell_type": "markdown",
   "id": "3bf578b1",
   "metadata": {},
   "source": [
    "## Part 2. Implement clustering (20 marks)"
   ]
  },
  {
   "cell_type": "markdown",
   "id": "937cb37b",
   "metadata": {},
   "source": [
    "The agricultural company approaches you again because they lost all the labels for their data. Use the Kmeans clustering method to assign labels to the seeds dataset used in Part 1."
   ]
  },
  {
   "cell_type": "markdown",
   "id": "980c62e1",
   "metadata": {},
   "source": [
    "### Step 1: Cluster using original data (6 marks)\n",
    "\n",
    "This part of the assignment asks you to implement Kmeans clustering using the orginal feature matrix (after scaling has been performed). "
   ]
  },
  {
   "cell_type": "code",
   "execution_count": 14,
   "id": "e2c441df",
   "metadata": {},
   "outputs": [],
   "source": [
    "# TODO: Scale feature matrix\n",
    "\n",
    "# This is the same process that was completed in Part 1 but is shown again here for reference.\n",
    "X = df.iloc[:, :-1]  \n",
    "y = df.iloc[:, -1]\n",
    "X_train, X_test, y_train, y_test = train_test_split(X, y, test_size=0.2, random_state=42)\n",
    "X_train_scaled =  scaler.fit_transform(X_train)\n",
    "X_test_scaled = scaler.transform(X_test)"
   ]
  },
  {
   "cell_type": "markdown",
   "id": "6efb7a1b",
   "metadata": {},
   "source": [
    "The first step is to use the elbow method to determine the optimal number of clusters. In this case, you can use the distortion metric."
   ]
  },
  {
   "cell_type": "code",
   "execution_count": 15,
   "id": "5f85da0b",
   "metadata": {},
   "outputs": [
    {
     "name": "stderr",
     "output_type": "stream",
     "text": [
      "C:\\Users\\matth\\anaconda3\\envs\\ensf-ml\\Lib\\site-packages\\sklearn\\cluster\\_kmeans.py:1436: UserWarning: KMeans is known to have a memory leak on Windows with MKL, when there are less chunks than available threads. You can avoid it by setting the environment variable OMP_NUM_THREADS=1.\n",
      "  warnings.warn(\n",
      "C:\\Users\\matth\\anaconda3\\envs\\ensf-ml\\Lib\\site-packages\\sklearn\\cluster\\_kmeans.py:1436: UserWarning: KMeans is known to have a memory leak on Windows with MKL, when there are less chunks than available threads. You can avoid it by setting the environment variable OMP_NUM_THREADS=1.\n",
      "  warnings.warn(\n",
      "C:\\Users\\matth\\anaconda3\\envs\\ensf-ml\\Lib\\site-packages\\sklearn\\cluster\\_kmeans.py:1436: UserWarning: KMeans is known to have a memory leak on Windows with MKL, when there are less chunks than available threads. You can avoid it by setting the environment variable OMP_NUM_THREADS=1.\n",
      "  warnings.warn(\n",
      "C:\\Users\\matth\\anaconda3\\envs\\ensf-ml\\Lib\\site-packages\\sklearn\\cluster\\_kmeans.py:1436: UserWarning: KMeans is known to have a memory leak on Windows with MKL, when there are less chunks than available threads. You can avoid it by setting the environment variable OMP_NUM_THREADS=1.\n",
      "  warnings.warn(\n",
      "C:\\Users\\matth\\anaconda3\\envs\\ensf-ml\\Lib\\site-packages\\sklearn\\cluster\\_kmeans.py:1436: UserWarning: KMeans is known to have a memory leak on Windows with MKL, when there are less chunks than available threads. You can avoid it by setting the environment variable OMP_NUM_THREADS=1.\n",
      "  warnings.warn(\n",
      "C:\\Users\\matth\\anaconda3\\envs\\ensf-ml\\Lib\\site-packages\\sklearn\\cluster\\_kmeans.py:1436: UserWarning: KMeans is known to have a memory leak on Windows with MKL, when there are less chunks than available threads. You can avoid it by setting the environment variable OMP_NUM_THREADS=1.\n",
      "  warnings.warn(\n",
      "C:\\Users\\matth\\anaconda3\\envs\\ensf-ml\\Lib\\site-packages\\sklearn\\cluster\\_kmeans.py:1436: UserWarning: KMeans is known to have a memory leak on Windows with MKL, when there are less chunks than available threads. You can avoid it by setting the environment variable OMP_NUM_THREADS=1.\n",
      "  warnings.warn(\n",
      "C:\\Users\\matth\\anaconda3\\envs\\ensf-ml\\Lib\\site-packages\\sklearn\\cluster\\_kmeans.py:1436: UserWarning: KMeans is known to have a memory leak on Windows with MKL, when there are less chunks than available threads. You can avoid it by setting the environment variable OMP_NUM_THREADS=1.\n",
      "  warnings.warn(\n",
      "C:\\Users\\matth\\anaconda3\\envs\\ensf-ml\\Lib\\site-packages\\sklearn\\cluster\\_kmeans.py:1436: UserWarning: KMeans is known to have a memory leak on Windows with MKL, when there are less chunks than available threads. You can avoid it by setting the environment variable OMP_NUM_THREADS=1.\n",
      "  warnings.warn(\n"
     ]
    },
    {
     "data": {
      "image/png": "[encoded data removed]",
      "text/plain": [
       "<Figure size 640x480 with 1 Axes>"
      ]
     },
     "metadata": {},
     "output_type": "display_data"
    }
   ],
   "source": [
    "# TODO: Use the elbow method to determine the optimal number of clusters\n",
    "from sklearn.cluster import KMeans\n",
    "inertia = []\n",
    "for n_clusters in range(1, 10):\n",
    "    kmeans = KMeans(n_clusters=n_clusters, random_state=0, n_init=10).fit(X_train_scaled)\n",
    "    inertia.append(kmeans.inertia_ )\n",
    "    \n",
    "inertias = pd.DataFrame({'n_clusters': range(1, 10), 'inertia': inertia})\n",
    "ax = inertias.plot(x='n_clusters', y='inertia')\n",
    "plt.xlabel('Number of Clusters, k')\n",
    "plt.ylabel('Within-Cluster Squared Distances')\n",
    "plt.ylim((0, 1.1 * inertias.inertia.max()))\n",
    "plt.grid(True)\n",
    "ax.legend().set_visible(False)"
   ]
  },
  {
   "cell_type": "markdown",
   "id": "be361544",
   "metadata": {},
   "source": [
    "Next, implement Kmeans and calculate the following validation metrics:\n",
    "- Silhouette score\n",
    "- Calinski-Harabasz score\n",
    "- Davies-Bouldin score"
   ]
  },
  {
   "cell_type": "code",
   "execution_count": 29,
   "id": "da40bf77",
   "metadata": {},
   "outputs": [
    {
     "name": "stderr",
     "output_type": "stream",
     "text": [
      "C:\\Users\\matth\\anaconda3\\envs\\ensf-ml\\Lib\\site-packages\\sklearn\\cluster\\_kmeans.py:1412: FutureWarning: The default value of `n_init` will change from 10 to 'auto' in 1.4. Set the value of `n_init` explicitly to suppress the warning\n",
      "  super()._check_params_vs_input(X, default_n_init=10)\n",
      "C:\\Users\\matth\\anaconda3\\envs\\ensf-ml\\Lib\\site-packages\\sklearn\\cluster\\_kmeans.py:1436: UserWarning: KMeans is known to have a memory leak on Windows with MKL, when there are less chunks than available threads. You can avoid it by setting the environment variable OMP_NUM_THREADS=1.\n",
      "  warnings.warn(\n"
     ]
    },
    {
     "data": {
      "text/plain": [
       "168"
      ]
     },
     "execution_count": 29,
     "metadata": {},
     "output_type": "execute_result"
    }
   ],
   "source": [
    "# TODO: Implement K-means with the number of clusters determined in the previous step\n",
    "\n",
    "# Based on the above plot, we see that the curve bends the most at k=2.\n",
    "kmeans = KMeans(n_clusters=2)\n",
    "kmeans.fit(X_train_scaled)\n",
    "labels = kmeans.labels_\n"
   ]
  },
  {
   "cell_type": "code",
   "execution_count": 17,
   "id": "085dc51c",
   "metadata": {},
   "outputs": [
    {
     "name": "stdout",
     "output_type": "stream",
     "text": [
      "Silhouette Score: 0.4590247768937097\n",
      "Calinski-Harabasz Score: 196.91954950768792\n",
      "Davies-Bouldin Score: 0.8046418212164979\n"
     ]
    }
   ],
   "source": [
    "# TODO: Calculate the three different validation metrics\n",
    "from sklearn.metrics import silhouette_score, calinski_harabasz_score, davies_bouldin_score\n",
    "\n",
    "silhouette = silhouette_score(X_train_scaled, labels)\n",
    "calinski_harabasz = calinski_harabasz_score(X_train_scaled, labels)\n",
    "davies_bouldin = davies_bouldin_score(X_train_scaled, labels)\n",
    "\n",
    "print(f\"Silhouette Score: {silhouette}\")\n",
    "print(f\"Calinski-Harabasz Score: {calinski_harabasz}\")\n",
    "print(f\"Davies-Bouldin Score: {davies_bouldin}\")"
   ]
  },
  {
   "cell_type": "markdown",
   "id": "40e40c04",
   "metadata": {},
   "source": [
    "Plot the clustering results using PCA. Remember to color each data point based on the cluster label."
   ]
  },
  {
   "cell_type": "code",
   "execution_count": 30,
   "id": "47012908",
   "metadata": {},
   "outputs": [
    {
     "ename": "IndexError",
     "evalue": "only integers, slices (`:`), ellipsis (`...`), numpy.newaxis (`None`) and integer or boolean arrays are valid indices",
     "output_type": "error",
     "traceback": [
      "\u001b[1;31m---------------------------------------------------------------------------\u001b[0m",
      "\u001b[1;31mIndexError\u001b[0m                                Traceback (most recent call last)",
      "Cell \u001b[1;32mIn[30], line 2\u001b[0m\n\u001b[0;32m      1\u001b[0m \u001b[38;5;66;03m# TODO: Plot clustering results\u001b[39;00m\n\u001b[1;32m----> 2\u001b[0m X_train_scaled[\u001b[38;5;124m'\u001b[39m\u001b[38;5;124mclusters\u001b[39m\u001b[38;5;124m'\u001b[39m] \u001b[38;5;241m=\u001b[39m kmeans\u001b[38;5;241m.\u001b[39mlabels_\n\u001b[0;32m      3\u001b[0m X[\u001b[38;5;124m'\u001b[39m\u001b[38;5;124mclusters\u001b[39m\u001b[38;5;124m'\u001b[39m] \u001b[38;5;241m=\u001b[39m X[\u001b[38;5;124m'\u001b[39m\u001b[38;5;124mclusters\u001b[39m\u001b[38;5;124m'\u001b[39m]\u001b[38;5;241m.\u001b[39mastype(\u001b[38;5;124m'\u001b[39m\u001b[38;5;124mcategory\u001b[39m\u001b[38;5;124m'\u001b[39m) \u001b[38;5;66;03m#makes seaborn use qualitative color palette\u001b[39;00m\n\u001b[0;32m      5\u001b[0m pca \u001b[38;5;241m=\u001b[39m PCA(n_components\u001b[38;5;241m=\u001b[39m\u001b[38;5;241m2\u001b[39m)\n",
      "\u001b[1;31mIndexError\u001b[0m: only integers, slices (`:`), ellipsis (`...`), numpy.newaxis (`None`) and integer or boolean arrays are valid indices"
     ]
    }
   ],
   "source": [
    "# TODO: Plot clustering results\n",
    "X_train_scaled['clusters'] = kmeans.labels_\n",
    "X['clusters'] = X['clusters'].astype('category') #makes seaborn use qualitative color palette\n",
    "\n",
    "pca = PCA(n_components=2)\n",
    "pca.fit(X_train_scaled)\n",
    "X_2D = pca.transform(X_train_scaled)\n",
    "sns.scatterplot(x=X_2D[:,0], y=X_2D[:,1], hue=X['clusters'])"
   ]
  },
  {
   "cell_type": "markdown",
   "id": "48df428e",
   "metadata": {},
   "source": [
    "### Step 2: Cluster using PCA-transformed data (4 marks)\n",
    "\n",
    "Implement Kmeans clustering using PCA-transformed data. The first step is to use the explained variance ratio to find the number of components required to explain at least 95% of the variance."
   ]
  },
  {
   "cell_type": "code",
   "execution_count": null,
   "id": "de0a5d80",
   "metadata": {},
   "outputs": [],
   "source": [
    "# TODO: Find the number of principal components using explained variance ratio"
   ]
  },
  {
   "cell_type": "markdown",
   "id": "8af06a41",
   "metadata": {},
   "source": [
    "Next, transform the data using PCA, implement Kmeans and calculate the three validation metrics used in the previous step."
   ]
  },
  {
   "cell_type": "code",
   "execution_count": null,
   "id": "3ed38b89",
   "metadata": {},
   "outputs": [],
   "source": [
    "# TODO: Use PCA to transform the data"
   ]
  },
  {
   "cell_type": "code",
   "execution_count": null,
   "id": "cc8b981e",
   "metadata": {},
   "outputs": [],
   "source": [
    "# TODO: Implement K-means with the transformed data"
   ]
  },
  {
   "cell_type": "code",
   "execution_count": null,
   "id": "f5a3bf4b",
   "metadata": {},
   "outputs": [],
   "source": [
    "# TODO: Calculate the three different validation metrics"
   ]
  },
  {
   "cell_type": "markdown",
   "id": "50eb5219",
   "metadata": {},
   "source": [
    "### Step 3: Display results (2 marks)\n",
    "\n",
    "Print the results for Steps 2 and 3 in a table. Include column and row labels"
   ]
  },
  {
   "cell_type": "code",
   "execution_count": null,
   "id": "6c945947",
   "metadata": {},
   "outputs": [],
   "source": [
    "# TODO: Display results"
   ]
  },
  {
   "cell_type": "markdown",
   "id": "e1086de9",
   "metadata": {},
   "source": [
    "#### Questions (4 marks)\n",
    "\n",
    "1. Did the optimal number of clusters make sense based on the context? *(1 mark)*\n",
    "1. Compare the PCA plot from Part 2 step 1 to the PCA plot from Part 1. Did we get similar results? *(1 mark)*\n",
    "1. How many components did you use for the PCA analysis? Did using PCA improve your results? Why or why not? *(2 marks)*\n",
    "\n",
    "\n",
    "*ANSWER HERE*\n",
    "\n",
    "#### Answers\n",
    "\n",
    "1. The orginal dataset had three class labels, so it makes sense that the optimal number of clusters was three.\n",
    "1. Yes, the plots have similar distributions for the three classes.\n",
    "1. I used two components to explain at least 95% of the variance. Yes, using PCA improved my results. Due to the curse of dimensionality, typically reducing the number of features will improve clustering accuracy results."
   ]
  },
  {
   "cell_type": "markdown",
   "id": "521489ee",
   "metadata": {},
   "source": [
    "### Process Description (4 marks)\n",
    "Please describe the process you used to create your code. Cite any websites or generative AI tools used. You can use the following questions as guidance:\n",
    "1. Where did you source your code?\n",
    "1. In what order did you complete the steps?\n",
    "1. If you used generative AI, what prompts did you use? Did you need to modify the code at all? Why or why not?\n",
    "1. Did you have any challenges? If yes, what were they? If not, what helped you to be successful?"
   ]
  },
  {
   "cell_type": "markdown",
   "id": "e4ae4b12",
   "metadata": {},
   "source": [
    "*DESCRIBE YOUR PROCESS HERE*"
   ]
  },
  {
   "cell_type": "markdown",
   "id": "05e42ec7",
   "metadata": {},
   "source": [
    "## Part 3: Reflection (2 marks)\n",
    "Include a sentence or two about:\n",
    "- what you liked or disliked,\n",
    "- found interesting, confusing, challangeing, motivating\n",
    "while working on this assignment.\n",
    "\n",
    "\n",
    "*ADD YOUR THOUGHTS HERE*"
   ]
  },
  {
   "cell_type": "code",
   "execution_count": null,
   "id": "a9755613",
   "metadata": {},
   "outputs": [],
   "source": []
  }
 ],
 "metadata": {
  "kernelspec": {
   "display_name": "Python 3 (ipykernel)",
   "language": "python",
   "name": "python3"
  },
  "language_info": {
   "codemirror_mode": {
    "name": "ipython",
    "version": 3
   },
   "file_extension": ".py",
   "mimetype": "text/x-python",
   "name": "python",
   "nbconvert_exporter": "python",
   "pygments_lexer": "ipython3",
   "version": "3.11.5"
  }
 },
 "nbformat": 4,
 "nbformat_minor": 5
}
